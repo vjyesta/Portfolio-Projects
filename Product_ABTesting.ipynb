{
  "nbformat": 4,
  "nbformat_minor": 0,
  "metadata": {
    "colab": {
      "provenance": []
    },
    "kernelspec": {
      "name": "python3",
      "display_name": "Python 3"
    },
    "language_info": {
      "name": "python"
    }
  },
  "cells": [
    {
      "cell_type": "markdown",
      "source": [
        "## **AB Testing Product Case Study**\n",
        "\n",
        "##Introduction\n",
        "\n",
        "The aim of this A/B Testing project for Buy Now Pay Later (BNPL) is to evaluate the impact of BNPL offerings on user behavior and business metrics. The key objectives include:\n",
        "\n",
        "1. Assessing Conversion Rate\n",
        "- Hypothesis:\n",
        "Null (H₀): There is no difference in conversion rates between the control and treatment groups.\n",
        "Alternative (H₁): The treatment group (BNPL adoption) has a higher conversion rate.\n",
        "- Method: Perform a t-test/z-test to determine statistical significance.\n",
        "2. Evaluating Average Order Value (AOV) Changes\n",
        "- Hypothesis:\n",
        "Null (H₀): There is no difference in AOV between groups.\n",
        "Alternative (H₁): The treatment group (BNPL users) has a higher AOV.\n",
        "- Method: Conduct a t-test (for numerical order value data) to compare means.\n",
        "3. Analyzing User Behavior by Segments\n",
        "- Categories:\n",
        "        - Region: Do users in certain locations prefer BNPL more?\n",
        "        - Device Type: Are mobile users more likely to use BNPL?\n",
        "        - Payment Method: Does BNPL increase conversion compared to other payment options?\n",
        "\n",
        "- Method: Perform a chi-square test to analyze the distribution of BNPL adoption across different user segments.\n",
        "\n",
        "Once we have results, we can come up with business recommendations and insights."
      ],
      "metadata": {
        "id": "sDvZErWu88SI"
      }
    },
    {
      "cell_type": "markdown",
      "source": [
        "##Data Sourcing\n",
        "\n",
        "The dataset used for this analysis was taken from ChatGPT using prompting of variables."
      ],
      "metadata": {
        "id": "D0nRwZF883Nv"
      }
    },
    {
      "cell_type": "code",
      "source": [
        "#Importing Libraries I will use in this project\n",
        "import pandas as pd\n",
        "\n",
        "\n",
        "df = pd.read_csv('ab_testing_bnpl.csv')\n",
        "df.head()"
      ],
      "metadata": {
        "colab": {
          "base_uri": "https://localhost:8080/",
          "height": 206
        },
        "id": "nQbNDsZm-v9t",
        "outputId": "70b62dc0-6119-436e-95a9-27325a97f455"
      },
      "execution_count": 5,
      "outputs": [
        {
          "output_type": "execute_result",
          "data": {
            "text/plain": [
              "   user_id      group  converted  order_value         region device_type  \\\n",
              "0        1    Control          0    45.588385           Asia      Mobile   \n",
              "1        2  Treatment          0    93.447195         Europe     Desktop   \n",
              "2        3  Treatment          0    97.578297  North America     Desktop   \n",
              "3        4  Treatment          0    64.274116  North America      Mobile   \n",
              "4        5    Control          0    81.524587         Europe      Mobile   \n",
              "\n",
              "  payment_method  \n",
              "0     Debit Card  \n",
              "1           BNPL  \n",
              "2    Credit Card  \n",
              "3           BNPL  \n",
              "4    Credit Card  "
            ],
            "text/html": [
              "\n",
              "  <div id=\"df-23449d5a-0aaa-4117-9845-950352f40fbd\" class=\"colab-df-container\">\n",
              "    <div>\n",
              "<style scoped>\n",
              "    .dataframe tbody tr th:only-of-type {\n",
              "        vertical-align: middle;\n",
              "    }\n",
              "\n",
              "    .dataframe tbody tr th {\n",
              "        vertical-align: top;\n",
              "    }\n",
              "\n",
              "    .dataframe thead th {\n",
              "        text-align: right;\n",
              "    }\n",
              "</style>\n",
              "<table border=\"1\" class=\"dataframe\">\n",
              "  <thead>\n",
              "    <tr style=\"text-align: right;\">\n",
              "      <th></th>\n",
              "      <th>user_id</th>\n",
              "      <th>group</th>\n",
              "      <th>converted</th>\n",
              "      <th>order_value</th>\n",
              "      <th>region</th>\n",
              "      <th>device_type</th>\n",
              "      <th>payment_method</th>\n",
              "    </tr>\n",
              "  </thead>\n",
              "  <tbody>\n",
              "    <tr>\n",
              "      <th>0</th>\n",
              "      <td>1</td>\n",
              "      <td>Control</td>\n",
              "      <td>0</td>\n",
              "      <td>45.588385</td>\n",
              "      <td>Asia</td>\n",
              "      <td>Mobile</td>\n",
              "      <td>Debit Card</td>\n",
              "    </tr>\n",
              "    <tr>\n",
              "      <th>1</th>\n",
              "      <td>2</td>\n",
              "      <td>Treatment</td>\n",
              "      <td>0</td>\n",
              "      <td>93.447195</td>\n",
              "      <td>Europe</td>\n",
              "      <td>Desktop</td>\n",
              "      <td>BNPL</td>\n",
              "    </tr>\n",
              "    <tr>\n",
              "      <th>2</th>\n",
              "      <td>3</td>\n",
              "      <td>Treatment</td>\n",
              "      <td>0</td>\n",
              "      <td>97.578297</td>\n",
              "      <td>North America</td>\n",
              "      <td>Desktop</td>\n",
              "      <td>Credit Card</td>\n",
              "    </tr>\n",
              "    <tr>\n",
              "      <th>3</th>\n",
              "      <td>4</td>\n",
              "      <td>Treatment</td>\n",
              "      <td>0</td>\n",
              "      <td>64.274116</td>\n",
              "      <td>North America</td>\n",
              "      <td>Mobile</td>\n",
              "      <td>BNPL</td>\n",
              "    </tr>\n",
              "    <tr>\n",
              "      <th>4</th>\n",
              "      <td>5</td>\n",
              "      <td>Control</td>\n",
              "      <td>0</td>\n",
              "      <td>81.524587</td>\n",
              "      <td>Europe</td>\n",
              "      <td>Mobile</td>\n",
              "      <td>Credit Card</td>\n",
              "    </tr>\n",
              "  </tbody>\n",
              "</table>\n",
              "</div>\n",
              "    <div class=\"colab-df-buttons\">\n",
              "\n",
              "  <div class=\"colab-df-container\">\n",
              "    <button class=\"colab-df-convert\" onclick=\"convertToInteractive('df-23449d5a-0aaa-4117-9845-950352f40fbd')\"\n",
              "            title=\"Convert this dataframe to an interactive table.\"\n",
              "            style=\"display:none;\">\n",
              "\n",
              "  <svg xmlns=\"http://www.w3.org/2000/svg\" height=\"24px\" viewBox=\"0 -960 960 960\">\n",
              "    <path d=\"M120-120v-720h720v720H120Zm60-500h600v-160H180v160Zm220 220h160v-160H400v160Zm0 220h160v-160H400v160ZM180-400h160v-160H180v160Zm440 0h160v-160H620v160ZM180-180h160v-160H180v160Zm440 0h160v-160H620v160Z\"/>\n",
              "  </svg>\n",
              "    </button>\n",
              "\n",
              "  <style>\n",
              "    .colab-df-container {\n",
              "      display:flex;\n",
              "      gap: 12px;\n",
              "    }\n",
              "\n",
              "    .colab-df-convert {\n",
              "      background-color: #E8F0FE;\n",
              "      border: none;\n",
              "      border-radius: 50%;\n",
              "      cursor: pointer;\n",
              "      display: none;\n",
              "      fill: #1967D2;\n",
              "      height: 32px;\n",
              "      padding: 0 0 0 0;\n",
              "      width: 32px;\n",
              "    }\n",
              "\n",
              "    .colab-df-convert:hover {\n",
              "      background-color: #E2EBFA;\n",
              "      box-shadow: 0px 1px 2px rgba(60, 64, 67, 0.3), 0px 1px 3px 1px rgba(60, 64, 67, 0.15);\n",
              "      fill: #174EA6;\n",
              "    }\n",
              "\n",
              "    .colab-df-buttons div {\n",
              "      margin-bottom: 4px;\n",
              "    }\n",
              "\n",
              "    [theme=dark] .colab-df-convert {\n",
              "      background-color: #3B4455;\n",
              "      fill: #D2E3FC;\n",
              "    }\n",
              "\n",
              "    [theme=dark] .colab-df-convert:hover {\n",
              "      background-color: #434B5C;\n",
              "      box-shadow: 0px 1px 3px 1px rgba(0, 0, 0, 0.15);\n",
              "      filter: drop-shadow(0px 1px 2px rgba(0, 0, 0, 0.3));\n",
              "      fill: #FFFFFF;\n",
              "    }\n",
              "  </style>\n",
              "\n",
              "    <script>\n",
              "      const buttonEl =\n",
              "        document.querySelector('#df-23449d5a-0aaa-4117-9845-950352f40fbd button.colab-df-convert');\n",
              "      buttonEl.style.display =\n",
              "        google.colab.kernel.accessAllowed ? 'block' : 'none';\n",
              "\n",
              "      async function convertToInteractive(key) {\n",
              "        const element = document.querySelector('#df-23449d5a-0aaa-4117-9845-950352f40fbd');\n",
              "        const dataTable =\n",
              "          await google.colab.kernel.invokeFunction('convertToInteractive',\n",
              "                                                    [key], {});\n",
              "        if (!dataTable) return;\n",
              "\n",
              "        const docLinkHtml = 'Like what you see? Visit the ' +\n",
              "          '<a target=\"_blank\" href=https://colab.research.google.com/notebooks/data_table.ipynb>data table notebook</a>'\n",
              "          + ' to learn more about interactive tables.';\n",
              "        element.innerHTML = '';\n",
              "        dataTable['output_type'] = 'display_data';\n",
              "        await google.colab.output.renderOutput(dataTable, element);\n",
              "        const docLink = document.createElement('div');\n",
              "        docLink.innerHTML = docLinkHtml;\n",
              "        element.appendChild(docLink);\n",
              "      }\n",
              "    </script>\n",
              "  </div>\n",
              "\n",
              "\n",
              "<div id=\"df-929bd5eb-05eb-4c7c-bf82-701db8f54353\">\n",
              "  <button class=\"colab-df-quickchart\" onclick=\"quickchart('df-929bd5eb-05eb-4c7c-bf82-701db8f54353')\"\n",
              "            title=\"Suggest charts\"\n",
              "            style=\"display:none;\">\n",
              "\n",
              "<svg xmlns=\"http://www.w3.org/2000/svg\" height=\"24px\"viewBox=\"0 0 24 24\"\n",
              "     width=\"24px\">\n",
              "    <g>\n",
              "        <path d=\"M19 3H5c-1.1 0-2 .9-2 2v14c0 1.1.9 2 2 2h14c1.1 0 2-.9 2-2V5c0-1.1-.9-2-2-2zM9 17H7v-7h2v7zm4 0h-2V7h2v10zm4 0h-2v-4h2v4z\"/>\n",
              "    </g>\n",
              "</svg>\n",
              "  </button>\n",
              "\n",
              "<style>\n",
              "  .colab-df-quickchart {\n",
              "      --bg-color: #E8F0FE;\n",
              "      --fill-color: #1967D2;\n",
              "      --hover-bg-color: #E2EBFA;\n",
              "      --hover-fill-color: #174EA6;\n",
              "      --disabled-fill-color: #AAA;\n",
              "      --disabled-bg-color: #DDD;\n",
              "  }\n",
              "\n",
              "  [theme=dark] .colab-df-quickchart {\n",
              "      --bg-color: #3B4455;\n",
              "      --fill-color: #D2E3FC;\n",
              "      --hover-bg-color: #434B5C;\n",
              "      --hover-fill-color: #FFFFFF;\n",
              "      --disabled-bg-color: #3B4455;\n",
              "      --disabled-fill-color: #666;\n",
              "  }\n",
              "\n",
              "  .colab-df-quickchart {\n",
              "    background-color: var(--bg-color);\n",
              "    border: none;\n",
              "    border-radius: 50%;\n",
              "    cursor: pointer;\n",
              "    display: none;\n",
              "    fill: var(--fill-color);\n",
              "    height: 32px;\n",
              "    padding: 0;\n",
              "    width: 32px;\n",
              "  }\n",
              "\n",
              "  .colab-df-quickchart:hover {\n",
              "    background-color: var(--hover-bg-color);\n",
              "    box-shadow: 0 1px 2px rgba(60, 64, 67, 0.3), 0 1px 3px 1px rgba(60, 64, 67, 0.15);\n",
              "    fill: var(--button-hover-fill-color);\n",
              "  }\n",
              "\n",
              "  .colab-df-quickchart-complete:disabled,\n",
              "  .colab-df-quickchart-complete:disabled:hover {\n",
              "    background-color: var(--disabled-bg-color);\n",
              "    fill: var(--disabled-fill-color);\n",
              "    box-shadow: none;\n",
              "  }\n",
              "\n",
              "  .colab-df-spinner {\n",
              "    border: 2px solid var(--fill-color);\n",
              "    border-color: transparent;\n",
              "    border-bottom-color: var(--fill-color);\n",
              "    animation:\n",
              "      spin 1s steps(1) infinite;\n",
              "  }\n",
              "\n",
              "  @keyframes spin {\n",
              "    0% {\n",
              "      border-color: transparent;\n",
              "      border-bottom-color: var(--fill-color);\n",
              "      border-left-color: var(--fill-color);\n",
              "    }\n",
              "    20% {\n",
              "      border-color: transparent;\n",
              "      border-left-color: var(--fill-color);\n",
              "      border-top-color: var(--fill-color);\n",
              "    }\n",
              "    30% {\n",
              "      border-color: transparent;\n",
              "      border-left-color: var(--fill-color);\n",
              "      border-top-color: var(--fill-color);\n",
              "      border-right-color: var(--fill-color);\n",
              "    }\n",
              "    40% {\n",
              "      border-color: transparent;\n",
              "      border-right-color: var(--fill-color);\n",
              "      border-top-color: var(--fill-color);\n",
              "    }\n",
              "    60% {\n",
              "      border-color: transparent;\n",
              "      border-right-color: var(--fill-color);\n",
              "    }\n",
              "    80% {\n",
              "      border-color: transparent;\n",
              "      border-right-color: var(--fill-color);\n",
              "      border-bottom-color: var(--fill-color);\n",
              "    }\n",
              "    90% {\n",
              "      border-color: transparent;\n",
              "      border-bottom-color: var(--fill-color);\n",
              "    }\n",
              "  }\n",
              "</style>\n",
              "\n",
              "  <script>\n",
              "    async function quickchart(key) {\n",
              "      const quickchartButtonEl =\n",
              "        document.querySelector('#' + key + ' button');\n",
              "      quickchartButtonEl.disabled = true;  // To prevent multiple clicks.\n",
              "      quickchartButtonEl.classList.add('colab-df-spinner');\n",
              "      try {\n",
              "        const charts = await google.colab.kernel.invokeFunction(\n",
              "            'suggestCharts', [key], {});\n",
              "      } catch (error) {\n",
              "        console.error('Error during call to suggestCharts:', error);\n",
              "      }\n",
              "      quickchartButtonEl.classList.remove('colab-df-spinner');\n",
              "      quickchartButtonEl.classList.add('colab-df-quickchart-complete');\n",
              "    }\n",
              "    (() => {\n",
              "      let quickchartButtonEl =\n",
              "        document.querySelector('#df-929bd5eb-05eb-4c7c-bf82-701db8f54353 button');\n",
              "      quickchartButtonEl.style.display =\n",
              "        google.colab.kernel.accessAllowed ? 'block' : 'none';\n",
              "    })();\n",
              "  </script>\n",
              "</div>\n",
              "\n",
              "    </div>\n",
              "  </div>\n"
            ],
            "application/vnd.google.colaboratory.intrinsic+json": {
              "type": "dataframe",
              "variable_name": "df"
            }
          },
          "metadata": {},
          "execution_count": 5
        }
      ]
    },
    {
      "cell_type": "code",
      "source": [
        "#checking the data shape\n",
        "df.shape"
      ],
      "metadata": {
        "colab": {
          "base_uri": "https://localhost:8080/"
        },
        "id": "CFiHw8pR_qfX",
        "outputId": "dbe50b92-1a7d-4f3e-ef53-8d77408befbe"
      },
      "execution_count": 6,
      "outputs": [
        {
          "output_type": "execute_result",
          "data": {
            "text/plain": [
              "(500000, 7)"
            ]
          },
          "metadata": {},
          "execution_count": 6
        }
      ]
    },
    {
      "cell_type": "markdown",
      "source": [
        "There are 500000 users for our experiment."
      ],
      "metadata": {
        "id": "kTFw7qY0_xvf"
      }
    },
    {
      "cell_type": "code",
      "source": [
        "df.duplicated().sum()"
      ],
      "metadata": {
        "colab": {
          "base_uri": "https://localhost:8080/"
        },
        "id": "U_S9LFXd_5OC",
        "outputId": "0565900a-edf2-4f21-e5bf-3a30c2a8d0af"
      },
      "execution_count": 7,
      "outputs": [
        {
          "output_type": "execute_result",
          "data": {
            "text/plain": [
              "0"
            ]
          },
          "metadata": {},
          "execution_count": 7
        }
      ]
    },
    {
      "cell_type": "markdown",
      "source": [
        "No duplicate users"
      ],
      "metadata": {
        "id": "VTV5W3cY_-Nk"
      }
    },
    {
      "cell_type": "code",
      "source": [
        "df.isna().sum()"
      ],
      "metadata": {
        "colab": {
          "base_uri": "https://localhost:8080/",
          "height": 304
        },
        "id": "el71G9eD_8hf",
        "outputId": "6c55d656-86ff-40cb-93a4-5eada33b066a"
      },
      "execution_count": 8,
      "outputs": [
        {
          "output_type": "execute_result",
          "data": {
            "text/plain": [
              "user_id           0\n",
              "group             0\n",
              "converted         0\n",
              "order_value       0\n",
              "region            0\n",
              "device_type       0\n",
              "payment_method    0\n",
              "dtype: int64"
            ],
            "text/html": [
              "<div>\n",
              "<style scoped>\n",
              "    .dataframe tbody tr th:only-of-type {\n",
              "        vertical-align: middle;\n",
              "    }\n",
              "\n",
              "    .dataframe tbody tr th {\n",
              "        vertical-align: top;\n",
              "    }\n",
              "\n",
              "    .dataframe thead th {\n",
              "        text-align: right;\n",
              "    }\n",
              "</style>\n",
              "<table border=\"1\" class=\"dataframe\">\n",
              "  <thead>\n",
              "    <tr style=\"text-align: right;\">\n",
              "      <th></th>\n",
              "      <th>0</th>\n",
              "    </tr>\n",
              "  </thead>\n",
              "  <tbody>\n",
              "    <tr>\n",
              "      <th>user_id</th>\n",
              "      <td>0</td>\n",
              "    </tr>\n",
              "    <tr>\n",
              "      <th>group</th>\n",
              "      <td>0</td>\n",
              "    </tr>\n",
              "    <tr>\n",
              "      <th>converted</th>\n",
              "      <td>0</td>\n",
              "    </tr>\n",
              "    <tr>\n",
              "      <th>order_value</th>\n",
              "      <td>0</td>\n",
              "    </tr>\n",
              "    <tr>\n",
              "      <th>region</th>\n",
              "      <td>0</td>\n",
              "    </tr>\n",
              "    <tr>\n",
              "      <th>device_type</th>\n",
              "      <td>0</td>\n",
              "    </tr>\n",
              "    <tr>\n",
              "      <th>payment_method</th>\n",
              "      <td>0</td>\n",
              "    </tr>\n",
              "  </tbody>\n",
              "</table>\n",
              "</div><br><label><b>dtype:</b> int64</label>"
            ]
          },
          "metadata": {},
          "execution_count": 8
        }
      ]
    },
    {
      "cell_type": "markdown",
      "source": [
        "No Missing Records"
      ],
      "metadata": {
        "id": "D6teN8KaALAr"
      }
    },
    {
      "cell_type": "code",
      "source": [
        "df.groupby(by='group')['user_id'].count()"
      ],
      "metadata": {
        "colab": {
          "base_uri": "https://localhost:8080/",
          "height": 178
        },
        "id": "X97B6IrSAJ-M",
        "outputId": "f1bad9aa-1a30-4b52-ceb3-984c905fa0b7"
      },
      "execution_count": 11,
      "outputs": [
        {
          "output_type": "execute_result",
          "data": {
            "text/plain": [
              "group\n",
              "Control      249555\n",
              "Treatment    250445\n",
              "Name: user_id, dtype: int64"
            ],
            "text/html": [
              "<div>\n",
              "<style scoped>\n",
              "    .dataframe tbody tr th:only-of-type {\n",
              "        vertical-align: middle;\n",
              "    }\n",
              "\n",
              "    .dataframe tbody tr th {\n",
              "        vertical-align: top;\n",
              "    }\n",
              "\n",
              "    .dataframe thead th {\n",
              "        text-align: right;\n",
              "    }\n",
              "</style>\n",
              "<table border=\"1\" class=\"dataframe\">\n",
              "  <thead>\n",
              "    <tr style=\"text-align: right;\">\n",
              "      <th></th>\n",
              "      <th>user_id</th>\n",
              "    </tr>\n",
              "    <tr>\n",
              "      <th>group</th>\n",
              "      <th></th>\n",
              "    </tr>\n",
              "  </thead>\n",
              "  <tbody>\n",
              "    <tr>\n",
              "      <th>Control</th>\n",
              "      <td>249555</td>\n",
              "    </tr>\n",
              "    <tr>\n",
              "      <th>Treatment</th>\n",
              "      <td>250445</td>\n",
              "    </tr>\n",
              "  </tbody>\n",
              "</table>\n",
              "</div><br><label><b>dtype:</b> int64</label>"
            ]
          },
          "metadata": {},
          "execution_count": 11
        }
      ]
    },
    {
      "cell_type": "markdown",
      "source": [
        "Close to 50% of users in treatment and control groups."
      ],
      "metadata": {
        "id": "CDjBMCYUAgWh"
      }
    },
    {
      "cell_type": "markdown",
      "source": [
        "Moving into Evaluation Metrics using AB Testing.\n",
        "---\n",
        "Lets consider Continuous Variable metrics : Conversion Rate and Average Over Value with BNPL Adoption.\n",
        "\n"
      ],
      "metadata": {
        "id": "I5GIg0nSByVJ"
      }
    },
    {
      "cell_type": "code",
      "source": [
        "df.groupby(by='group')['converted'].mean()"
      ],
      "metadata": {
        "colab": {
          "base_uri": "https://localhost:8080/",
          "height": 178
        },
        "id": "6-Ewu7fkAeIQ",
        "outputId": "a6ee1464-f985-4b39-fb85-b4d6e360bfe6"
      },
      "execution_count": 12,
      "outputs": [
        {
          "output_type": "execute_result",
          "data": {
            "text/plain": [
              "group\n",
              "Control      0.119012\n",
              "Treatment    0.139544\n",
              "Name: converted, dtype: float64"
            ],
            "text/html": [
              "<div>\n",
              "<style scoped>\n",
              "    .dataframe tbody tr th:only-of-type {\n",
              "        vertical-align: middle;\n",
              "    }\n",
              "\n",
              "    .dataframe tbody tr th {\n",
              "        vertical-align: top;\n",
              "    }\n",
              "\n",
              "    .dataframe thead th {\n",
              "        text-align: right;\n",
              "    }\n",
              "</style>\n",
              "<table border=\"1\" class=\"dataframe\">\n",
              "  <thead>\n",
              "    <tr style=\"text-align: right;\">\n",
              "      <th></th>\n",
              "      <th>converted</th>\n",
              "    </tr>\n",
              "    <tr>\n",
              "      <th>group</th>\n",
              "      <th></th>\n",
              "    </tr>\n",
              "  </thead>\n",
              "  <tbody>\n",
              "    <tr>\n",
              "      <th>Control</th>\n",
              "      <td>0.119012</td>\n",
              "    </tr>\n",
              "    <tr>\n",
              "      <th>Treatment</th>\n",
              "      <td>0.139544</td>\n",
              "    </tr>\n",
              "  </tbody>\n",
              "</table>\n",
              "</div><br><label><b>dtype:</b> float64</label>"
            ]
          },
          "metadata": {},
          "execution_count": 12
        }
      ]
    },
    {
      "cell_type": "markdown",
      "source": [
        "Data Distribution based on BNPL Option for Control & Treatment Groups:\n",
        "1.   Control Group : Conversion is 12%\n",
        "2.   Treatment Group : Conversion is 14%"
      ],
      "metadata": {
        "id": "S-iz5f2qA2dm"
      }
    },
    {
      "cell_type": "code",
      "source": [
        "df.groupby(by='group')['order_value'].mean()"
      ],
      "metadata": {
        "colab": {
          "base_uri": "https://localhost:8080/",
          "height": 178
        },
        "id": "kyh5CjZbArA_",
        "outputId": "bdd284c7-17ec-469b-862b-f5b9fa84074b"
      },
      "execution_count": 13,
      "outputs": [
        {
          "output_type": "execute_result",
          "data": {
            "text/plain": [
              "group\n",
              "Control      79.922412\n",
              "Treatment    84.983135\n",
              "Name: order_value, dtype: float64"
            ],
            "text/html": [
              "<div>\n",
              "<style scoped>\n",
              "    .dataframe tbody tr th:only-of-type {\n",
              "        vertical-align: middle;\n",
              "    }\n",
              "\n",
              "    .dataframe tbody tr th {\n",
              "        vertical-align: top;\n",
              "    }\n",
              "\n",
              "    .dataframe thead th {\n",
              "        text-align: right;\n",
              "    }\n",
              "</style>\n",
              "<table border=\"1\" class=\"dataframe\">\n",
              "  <thead>\n",
              "    <tr style=\"text-align: right;\">\n",
              "      <th></th>\n",
              "      <th>order_value</th>\n",
              "    </tr>\n",
              "    <tr>\n",
              "      <th>group</th>\n",
              "      <th></th>\n",
              "    </tr>\n",
              "  </thead>\n",
              "  <tbody>\n",
              "    <tr>\n",
              "      <th>Control</th>\n",
              "      <td>79.922412</td>\n",
              "    </tr>\n",
              "    <tr>\n",
              "      <th>Treatment</th>\n",
              "      <td>84.983135</td>\n",
              "    </tr>\n",
              "  </tbody>\n",
              "</table>\n",
              "</div><br><label><b>dtype:</b> float64</label>"
            ]
          },
          "metadata": {},
          "execution_count": 13
        }
      ]
    },
    {
      "cell_type": "markdown",
      "source": [
        "Data Distribution based on Average Order Value for Control & Treatment Groups :\n",
        "1.   Control Group : Average Order Value (AOV) is 80$\n",
        "2.   Treatment Group : Average Order Value (AOV) is 85%"
      ],
      "metadata": {
        "id": "okL-xTKcBRzp"
      }
    },
    {
      "cell_type": "markdown",
      "source": [
        "#Conversion Rate\n",
        "---\n",
        "As we see 'converted' variable as a binary value variable, a two-proportion z-test is useful to determine if the conversion rates between both groups are  significantly different."
      ],
      "metadata": {
        "id": "pPkDFTdLCTqL"
      }
    },
    {
      "cell_type": "code",
      "source": [
        "#from statsmodels.stats.proportion import proportions_ztest"
      ],
      "metadata": {
        "id": "P6lkPS7XCS0z"
      },
      "execution_count": null,
      "outputs": []
    },
    {
      "cell_type": "code",
      "source": [
        "#pip install statsmodels if you dont have statsmodel library install it as its not built in python library"
      ],
      "metadata": {
        "id": "ZN-j7pXJESlc"
      },
      "execution_count": null,
      "outputs": []
    },
    {
      "cell_type": "code",
      "source": [
        "from statsmodels.stats.proportion import proportions_ztest\n",
        "\n",
        "conversions = df.groupby('group')['converted'].sum()\n",
        "print(conversions)\n",
        "n_users = df.groupby('group')['user_id'].count()\n",
        "print(n_users)\n",
        "\n",
        "z_stats,p_value = proportions_ztest(conversions,n_users)\n",
        "print(f'Z-Statistics:{z_stats}, P-Value:{p_value}')"
      ],
      "metadata": {
        "colab": {
          "base_uri": "https://localhost:8080/"
        },
        "id": "B71Pl4H8EbAj",
        "outputId": "dd216a66-69c7-4aed-a11e-e72c6f55292b"
      },
      "execution_count": 20,
      "outputs": [
        {
          "output_type": "stream",
          "name": "stdout",
          "text": [
            "group\n",
            "Control      29700\n",
            "Treatment    34948\n",
            "Name: converted, dtype: int64\n",
            "group\n",
            "Control      249555\n",
            "Treatment    250445\n",
            "Name: user_id, dtype: int64\n",
            "Z-Statistics:-21.634801849859638, P-Value:8.451165815521004e-104\n"
          ]
        }
      ]
    },
    {
      "cell_type": "markdown",
      "source": [
        "###Interpretation:\n",
        "- As we see large negative Z-score which tells that the conversion rate in the Treatment group (BNPL offered) is significantly higher than in the Control group.\n",
        "- The P-value is much smaller than 0.05, meaning we reject the null hypothesis (H₀).\n",
        "---\n",
        "With both of this strongly we can say that offering BNPL significantly impacts conversion rates."
      ],
      "metadata": {
        "id": "qzKPTjWfF4wP"
      }
    },
    {
      "cell_type": "markdown",
      "source": [
        "#Average Order Value\n",
        "---\n",
        "As we see 'order_value' variable is a continuous variable,to compare the means of two groups most approciate test to use would be t-test."
      ],
      "metadata": {
        "id": "69uI3gdjGxcq"
      }
    },
    {
      "cell_type": "code",
      "source": [
        "from scipy.stats import ttest_ind\n",
        "\n",
        "control_group_order_value = df[df['group'] == 'Control']['order_value']\n",
        "treatment_group_order_value = df[df['group'] == 'Treatment']['order_value']\n",
        "\n",
        "t_stats,p_value = ttest_ind(control_group_order_value,treatment_group_order_value)\n",
        "print(f'T-Statistics:{t_stats}, P-Value:{p_value}')"
      ],
      "metadata": {
        "colab": {
          "base_uri": "https://localhost:8080/"
        },
        "id": "94CXdfQJGtu4",
        "outputId": "2541f914-0008-4d16-9d3a-14833092a62c"
      },
      "execution_count": 26,
      "outputs": [
        {
          "output_type": "stream",
          "name": "stdout",
          "text": [
            "T-Statistics:-85.0421825217005, P-Value:0.0\n"
          ]
        }
      ]
    },
    {
      "cell_type": "markdown",
      "source": [
        "###Interpretation:\n",
        "- We see large -ve value in t stats which tells that the AOV in the Treatment group (BNPL users) is significantly higher than in the Control group.\n",
        "- The P-value is much smaller than 0.05, meaning we reject the null hypothesis (H₀).\n",
        "---\n",
        "This strongly suggests that offering Buy Now, Pay Later (BNPL) has a significant impact on Average Order Value , indicating chances of increase in revenue. Well,need to check other constraints aswell though."
      ],
      "metadata": {
        "id": "Q8KFUBDNKvqb"
      }
    },
    {
      "cell_type": "markdown",
      "source": [
        "#User Behaviour By Region\n",
        "    --- Region: Do users in certain locations prefer BNPL more?\n",
        "---\n",
        "We see that 'converted' is binary categorical variable and region is categorical varible, so Chi-Square Test would be best way to check statistical signficance."
      ],
      "metadata": {
        "id": "DVsrhbGkK4m1"
      }
    },
    {
      "cell_type": "code",
      "source": [
        "df.groupby('region')['converted'].mean()"
      ],
      "metadata": {
        "colab": {
          "base_uri": "https://localhost:8080/",
          "height": 210
        },
        "id": "qkNcJjrSK_Q3",
        "outputId": "4195ca6c-1f95-4b70-ec97-f4f109f56c33"
      },
      "execution_count": 27,
      "outputs": [
        {
          "output_type": "execute_result",
          "data": {
            "text/plain": [
              "region\n",
              "Asia             0.127918\n",
              "Europe           0.129607\n",
              "North America    0.130096\n",
              "Name: converted, dtype: float64"
            ],
            "text/html": [
              "<div>\n",
              "<style scoped>\n",
              "    .dataframe tbody tr th:only-of-type {\n",
              "        vertical-align: middle;\n",
              "    }\n",
              "\n",
              "    .dataframe tbody tr th {\n",
              "        vertical-align: top;\n",
              "    }\n",
              "\n",
              "    .dataframe thead th {\n",
              "        text-align: right;\n",
              "    }\n",
              "</style>\n",
              "<table border=\"1\" class=\"dataframe\">\n",
              "  <thead>\n",
              "    <tr style=\"text-align: right;\">\n",
              "      <th></th>\n",
              "      <th>converted</th>\n",
              "    </tr>\n",
              "    <tr>\n",
              "      <th>region</th>\n",
              "      <th></th>\n",
              "    </tr>\n",
              "  </thead>\n",
              "  <tbody>\n",
              "    <tr>\n",
              "      <th>Asia</th>\n",
              "      <td>0.127918</td>\n",
              "    </tr>\n",
              "    <tr>\n",
              "      <th>Europe</th>\n",
              "      <td>0.129607</td>\n",
              "    </tr>\n",
              "    <tr>\n",
              "      <th>North America</th>\n",
              "      <td>0.130096</td>\n",
              "    </tr>\n",
              "  </tbody>\n",
              "</table>\n",
              "</div><br><label><b>dtype:</b> float64</label>"
            ]
          },
          "metadata": {},
          "execution_count": 27
        }
      ]
    },
    {
      "cell_type": "code",
      "source": [
        "import scipy.stats as stats\n",
        "contingency_table = pd.crosstab(df['region'], df['converted'])\n",
        "print(contingency_table)\n",
        "chi2_stat, p_value, dof, expected = stats.chi2_contingency(contingency_table)\n",
        "print(f\"Chi-Square Statistic: {chi2_stat},P-Value: {p_value}\")"
      ],
      "metadata": {
        "colab": {
          "base_uri": "https://localhost:8080/"
        },
        "id": "z_jvBIp3LXHu",
        "outputId": "37aed51c-1cd5-49a0-a3e7-ddcdccba2cc6"
      },
      "execution_count": 31,
      "outputs": [
        {
          "output_type": "stream",
          "name": "stdout",
          "text": [
            "converted           0      1\n",
            "region                      \n",
            "Asia           130807  19187\n",
            "Europe         130525  19436\n",
            "North America  174020  26025\n",
            "Chi-Square Statistic: 3.793656906392925,P-Value: 0.15004373612833674\n"
          ]
        }
      ]
    },
    {
      "cell_type": "markdown",
      "source": [
        "###Interpretation:\n",
        "- Since p-value (0.150) is greater than 0.05, we fail to reject the null hypothesis (H₀).\n",
        "- This means there is no statistically significant difference in conversion rates across regions,the conversion rate does not vary between North America, Europe, and Asia in both groups."
      ],
      "metadata": {
        "id": "ECk6qaY1NHG5"
      }
    },
    {
      "cell_type": "markdown",
      "source": [
        "#User Behaviour By Device Type\n",
        "    --- Device Type: Are mobile users more likely to use BNPL?\n",
        "---\n",
        "We see that 'converted' is binary categorical variable and Device Type is categorical varible, so Chi-Square Test would be best way to check statistical signficance.    \n",
        "      "
      ],
      "metadata": {
        "id": "0BeOmUy-NWHY"
      }
    },
    {
      "cell_type": "code",
      "source": [
        "df.groupby('device_type')['converted'].mean()"
      ],
      "metadata": {
        "colab": {
          "base_uri": "https://localhost:8080/",
          "height": 210
        },
        "id": "M0-fBz6TNVSN",
        "outputId": "b07d4b67-282d-401e-e6c4-73c399984f54"
      },
      "execution_count": 32,
      "outputs": [
        {
          "output_type": "execute_result",
          "data": {
            "text/plain": [
              "device_type\n",
              "Desktop    0.129465\n",
              "Mobile     0.129004\n",
              "Tablet     0.130534\n",
              "Name: converted, dtype: float64"
            ],
            "text/html": [
              "<div>\n",
              "<style scoped>\n",
              "    .dataframe tbody tr th:only-of-type {\n",
              "        vertical-align: middle;\n",
              "    }\n",
              "\n",
              "    .dataframe tbody tr th {\n",
              "        vertical-align: top;\n",
              "    }\n",
              "\n",
              "    .dataframe thead th {\n",
              "        text-align: right;\n",
              "    }\n",
              "</style>\n",
              "<table border=\"1\" class=\"dataframe\">\n",
              "  <thead>\n",
              "    <tr style=\"text-align: right;\">\n",
              "      <th></th>\n",
              "      <th>converted</th>\n",
              "    </tr>\n",
              "    <tr>\n",
              "      <th>device_type</th>\n",
              "      <th></th>\n",
              "    </tr>\n",
              "  </thead>\n",
              "  <tbody>\n",
              "    <tr>\n",
              "      <th>Desktop</th>\n",
              "      <td>0.129465</td>\n",
              "    </tr>\n",
              "    <tr>\n",
              "      <th>Mobile</th>\n",
              "      <td>0.129004</td>\n",
              "    </tr>\n",
              "    <tr>\n",
              "      <th>Tablet</th>\n",
              "      <td>0.130534</td>\n",
              "    </tr>\n",
              "  </tbody>\n",
              "</table>\n",
              "</div><br><label><b>dtype:</b> float64</label>"
            ]
          },
          "metadata": {},
          "execution_count": 32
        }
      ]
    },
    {
      "cell_type": "code",
      "source": [
        "contingency_table = pd.crosstab(df['device_type'], df['converted'])\n",
        "print(contingency_table)\n",
        "chi2_stat, p_value, dof, expected = stats.chi2_contingency(contingency_table)\n",
        "print(f\"Chi-Square Statistic: {chi2_stat},P-Value: {p_value}\")"
      ],
      "metadata": {
        "colab": {
          "base_uri": "https://localhost:8080/"
        },
        "id": "WPhmWqwgM9WY",
        "outputId": "15a1c24d-05a4-40e5-a37a-f9cd3751d688"
      },
      "execution_count": 33,
      "outputs": [
        {
          "output_type": "stream",
          "name": "stdout",
          "text": [
            "converted         0      1\n",
            "device_type               \n",
            "Desktop      130743  19444\n",
            "Mobile       261027  38661\n",
            "Tablet        43582   6543\n",
            "Chi-Square Statistic: 0.9469761344661907,P-Value: 0.6228260160136767\n"
          ]
        }
      ]
    },
    {
      "cell_type": "markdown",
      "source": [
        "###Interpretation:\n",
        "- Since p-value (0.622) is greater than 0.05, we fail to reject the null hypothesis (H₀).\n",
        "- The conversion rate does not vary between different device types."
      ],
      "metadata": {
        "id": "vQcoQ3V8OW6a"
      }
    },
    {
      "cell_type": "markdown",
      "source": [
        "#User Behaviour By Device Type\n",
        "     - Payment Method: Does BNPL increase conversion compared to other payment options?\n",
        "---\n",
        "We see that 'converted' is binary categorical variable and Payment Method is categorical varible, so Chi-Square Test would be best way to check statistical signficance.   "
      ],
      "metadata": {
        "id": "8bv4HB9uOk9z"
      }
    },
    {
      "cell_type": "code",
      "source": [
        "df.groupby('payment_method')['converted'].mean()"
      ],
      "metadata": {
        "colab": {
          "base_uri": "https://localhost:8080/",
          "height": 210
        },
        "id": "sid1_sUtOv2D",
        "outputId": "8a62a657-2812-4a04-adcf-a9e378497f4d"
      },
      "execution_count": 34,
      "outputs": [
        {
          "output_type": "execute_result",
          "data": {
            "text/plain": [
              "payment_method\n",
              "BNPL           0.130520\n",
              "Credit Card    0.128605\n",
              "Debit Card     0.129633\n",
              "Name: converted, dtype: float64"
            ],
            "text/html": [
              "<div>\n",
              "<style scoped>\n",
              "    .dataframe tbody tr th:only-of-type {\n",
              "        vertical-align: middle;\n",
              "    }\n",
              "\n",
              "    .dataframe tbody tr th {\n",
              "        vertical-align: top;\n",
              "    }\n",
              "\n",
              "    .dataframe thead th {\n",
              "        text-align: right;\n",
              "    }\n",
              "</style>\n",
              "<table border=\"1\" class=\"dataframe\">\n",
              "  <thead>\n",
              "    <tr style=\"text-align: right;\">\n",
              "      <th></th>\n",
              "      <th>converted</th>\n",
              "    </tr>\n",
              "    <tr>\n",
              "      <th>payment_method</th>\n",
              "      <th></th>\n",
              "    </tr>\n",
              "  </thead>\n",
              "  <tbody>\n",
              "    <tr>\n",
              "      <th>BNPL</th>\n",
              "      <td>0.130520</td>\n",
              "    </tr>\n",
              "    <tr>\n",
              "      <th>Credit Card</th>\n",
              "      <td>0.128605</td>\n",
              "    </tr>\n",
              "    <tr>\n",
              "      <th>Debit Card</th>\n",
              "      <td>0.129633</td>\n",
              "    </tr>\n",
              "  </tbody>\n",
              "</table>\n",
              "</div><br><label><b>dtype:</b> float64</label>"
            ]
          },
          "metadata": {},
          "execution_count": 34
        }
      ]
    },
    {
      "cell_type": "code",
      "source": [
        "contingency_table = pd.crosstab(df['payment_method'], df['converted'])\n",
        "print(contingency_table)\n",
        "chi2_stat,p_value,dof,expected = stats.chi2_contingency(contingency_table)\n",
        "print(f\"Chi-Square Statistic: {chi2_stat},P-Value: {p_value}\")"
      ],
      "metadata": {
        "colab": {
          "base_uri": "https://localhost:8080/"
        },
        "id": "OvasGRyOOzyy",
        "outputId": "242a7fc6-e381-41c6-f9df-768d321ed4de"
      },
      "execution_count": 35,
      "outputs": [
        {
          "output_type": "stream",
          "name": "stdout",
          "text": [
            "converted            0      1\n",
            "payment_method               \n",
            "BNPL             87108  13076\n",
            "Credit Card     218118  32191\n",
            "Debit Card      130126  19381\n",
            "Chi-Square Statistic: 2.544971442541471,P-Value: 0.2801344195268534\n"
          ]
        }
      ]
    },
    {
      "cell_type": "markdown",
      "source": [
        "###Interpretation:\n",
        "- Since p-value (0.28) is greater than 0.05, we fail to reject the null hypothesis (H₀).\n",
        "- The conversion rate does not vary between different payment methods."
      ],
      "metadata": {
        "id": "Dw2sTBOcO7lo"
      }
    },
    {
      "cell_type": "markdown",
      "source": [
        "#Final Takeaways & Business Implications:\n",
        "- ✅ BNPL is effective in driving higher conversions and increasing AOV.\n",
        "- ❌ User behavior segmentation did not show significant differences, meaning BNPL adoption is uniform across user groups."
      ],
      "metadata": {
        "id": "fCVHddGNPbE6"
      }
    }
  ]
}